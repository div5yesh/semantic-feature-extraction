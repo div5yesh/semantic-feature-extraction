{
  "nbformat": 4,
  "nbformat_minor": 0,
  "metadata": {
    "colab": {
      "name": "NLP_Project.ipynb",
      "provenance": [],
      "collapsed_sections": []
    },
    "kernelspec": {
      "name": "python3",
      "display_name": "Python 3"
    },
    "accelerator": "GPU"
  },
  "cells": [
    {
      "cell_type": "code",
      "metadata": {
        "id": "n8Cqqx_qZFb7",
        "colab_type": "code",
        "colab": {}
      },
      "source": [
        "!dir"
      ],
      "execution_count": 0,
      "outputs": []
    },
    {
      "cell_type": "code",
      "metadata": {
        "id": "Nrmqiuj8ECHr",
        "colab_type": "code",
        "colab": {}
      },
      "source": [
        "!pip install pytorch_pretrained_bert"
      ],
      "execution_count": 0,
      "outputs": []
    },
    {
      "cell_type": "code",
      "metadata": {
        "id": "gD2HA9wyDUIN",
        "colab_type": "code",
        "colab": {}
      },
      "source": [
        "import pandas as pd\n",
        "from pandas import ExcelWriter\n",
        "from pandas import ExcelFile\n",
        "import numpy as np\n",
        "from sklearn.feature_extraction import DictVectorizer\n",
        "from read_data import Embeddings\n",
        "import torch.nn as nn\n",
        "from torch.autograd import Variable\n",
        "import torch.nn.functional as F\n",
        "import torch.optim as optim\n",
        "import torch"
      ],
      "execution_count": 0,
      "outputs": []
    },
    {
      "cell_type": "code",
      "metadata": {
        "id": "6tlFhlHdDiHM",
        "colab_type": "code",
        "colab": {
          "base_uri": "https://localhost:8080/",
          "height": 53
        },
        "outputId": "b7ecc89f-54fc-4ed4-c99f-16d408ac04f1"
      },
      "source": [
        "df = pd.read_excel('./CONCS_FEATS_concstats_brm.xlsx')\n",
        "embeds = Embeddings()"
      ],
      "execution_count": 3,
      "outputs": [
        {
          "output_type": "stream",
          "text": [
            "100%|██████████| 231508/231508 [00:00<00:00, 909247.05B/s]\n",
            "100%|██████████| 407873900/407873900 [00:15<00:00, 26919399.78B/s]\n"
          ],
          "name": "stderr"
        }
      ]
    },
    {
      "cell_type": "code",
      "metadata": {
        "id": "YljCpw79Djjp",
        "colab_type": "code",
        "colab": {}
      },
      "source": [
        "concepts = list(df[[\"Concept\",\"Feature\"]].groupby(\"Concept\").groups.keys())\n",
        "features = list(df[[\"Concept\",\"Feature\"]].groupby(\"Concept\")[\"Feature\"].apply(list))\n",
        "\n",
        "dict_features = []\n",
        "for feat in features:\n",
        "    dict_features += [dict.fromkeys(feat, True)]"
      ],
      "execution_count": 0,
      "outputs": []
    },
    {
      "cell_type": "code",
      "metadata": {
        "id": "ItRwOngpDlfS",
        "colab_type": "code",
        "colab": {}
      },
      "source": [
        "dv = DictVectorizer(sparse=False)\n",
        "Y = dv.fit_transform(dict_features)\n",
        "Y = torch.tensor(Y).double()"
      ],
      "execution_count": 0,
      "outputs": []
    },
    {
      "cell_type": "code",
      "metadata": {
        "id": "KBMSkqTUDm-8",
        "colab_type": "code",
        "colab": {}
      },
      "source": [
        "embeddings = []\n",
        "for con in concepts:\n",
        "    em = embeds.getEmbeddings(con.split(\"_\")[0]).tolist()\n",
        "    embeddings.append(em)\n",
        "\n",
        "embeddings = torch.tensor(embeddings)"
      ],
      "execution_count": 0,
      "outputs": []
    },
    {
      "cell_type": "code",
      "metadata": {
        "id": "IrWOZqUWxNLZ",
        "colab_type": "code",
        "colab": {}
      },
      "source": [
        "def sigmoid(x): return 1/(1 + (-x).exp())"
      ],
      "execution_count": 0,
      "outputs": []
    },
    {
      "cell_type": "code",
      "metadata": {
        "id": "ftFy5-HuDo1V",
        "colab_type": "code",
        "colab": {}
      },
      "source": [
        "class Net(nn.Module):\n",
        "    def __init__(self):\n",
        "        super(Net, self).__init__()\n",
        "        self.fc1 = nn.Linear(12 * 768, 300)\n",
        "        self.fc2 = nn.Linear(300, 100)\n",
        "        self.fc3 = nn.Linear(100, 2526)\n",
        "\n",
        "    def forward(self, x):\n",
        "        x = x.view(-1, 12 * 768)\n",
        "        x = F.relu(self.fc1(x))\n",
        "        x = F.relu(self.fc2(x))\n",
        "        x = self.fc3(x)\n",
        "        x = torch.sigmoid(x)\n",
        "        # x = F.softmax(x)\n",
        "        # F.log_softmax(x)\n",
        "        return x"
      ],
      "execution_count": 0,
      "outputs": []
    },
    {
      "cell_type": "code",
      "metadata": {
        "id": "q8y5W1G6Drs8",
        "colab_type": "code",
        "colab": {
          "base_uri": "https://localhost:8080/",
          "height": 71
        },
        "outputId": "5eeee7f2-5cda-46ee-88f4-b6a7442fa210"
      },
      "source": [
        "device = torch.device(\"cuda:0\" if torch.cuda.is_available() else \"cpu\")\n",
        "print(device)\n",
        "print(torch.cuda.get_device_name(device))\n",
        "net = Net()\n",
        "net.to(device)\n",
        "net.double()\n",
        "torch.autograd.set_detect_anomaly(True)\n",
        "optimizer = optim.SGD(net.parameters(), lr=0.001, momentum=0.2)\n",
        "pos_weight = (torch.ones(Y.shape[1])*3).double()\n",
        "criterion = nn.BCELoss(weight=pos_weight)\n",
        "criterion.to(device)"
      ],
      "execution_count": 237,
      "outputs": [
        {
          "output_type": "stream",
          "text": [
            "cuda:0\n",
            "Tesla P100-PCIE-16GB\n"
          ],
          "name": "stdout"
        },
        {
          "output_type": "execute_result",
          "data": {
            "text/plain": [
              "BCELoss()"
            ]
          },
          "metadata": {
            "tags": []
          },
          "execution_count": 237
        }
      ]
    },
    {
      "cell_type": "code",
      "metadata": {
        "id": "J4RALg3PJNLS",
        "colab_type": "code",
        "colab": {}
      },
      "source": [
        "def BCE_mod(pred, label):\n",
        "  eps = 1e-12\n",
        "  # print(pred)\n",
        "  cl = pred.clone()  \n",
        "  cl[cl >= 0.5] = 1\n",
        "  cl[cl < 0.5] = 0\n",
        "  # print(cl.shape)\n",
        "  pred_id = np.where(np.asarray(label.flatten().tolist()) == 1)[0]\n",
        "  \n",
        "  ownloss = cl-label  \n",
        "  ownloss[ownloss == -1] = 1\n",
        "  # ownloss=-(label*pred.clamp(min=eps).log()+(1-label)*(1-pred).clamp(min=eps).log()).mean()  \n",
        "  return ownloss.sum()/ownloss.shape[1]"
      ],
      "execution_count": 0,
      "outputs": []
    },
    {
      "cell_type": "code",
      "metadata": {
        "id": "f3RN3RBnDtmp",
        "colab_type": "code",
        "colab": {}
      },
      "source": [
        "embeddings = embeddings.double()\n",
        "trainX = embeddings[:449]\n",
        "devX = embeddings[450:499]\n",
        "testX = embeddings[500:]\n",
        "\n",
        "trainY = Y[:449]\n",
        "devY = Y[450:499]\n",
        "testY = Y[500:]"
      ],
      "execution_count": 0,
      "outputs": []
    },
    {
      "cell_type": "code",
      "metadata": {
        "id": "YZMWynNzDvou",
        "colab_type": "code",
        "colab": {
          "base_uri": "https://localhost:8080/",
          "height": 1000
        },
        "outputId": "646e016d-c664-4a81-d901-fcb594b44413"
      },
      "source": [
        "epochs = 200\n",
        "batch_size = 8\n",
        "run_loss = []\n",
        "batches = int(len(trainX)/batch_size)\n",
        "print(batches)\n",
        "for epoch in range(epochs):\n",
        "    for batch_idx in range(batches):\n",
        "        start = batch_size * batch_idx\n",
        "        end = batch_size * (batch_idx + 1)\n",
        "        # data, target = Variable(trainX[start:end]), Variable(trainY[start:end])​\n",
        "        data, target = Variable(trainX[start:end]), Variable(trainY[start:end])\n",
        "        if torch.cuda.is_available():\n",
        "            data, target = data.to(device), target.to(device)\n",
        "        # print(data.shape, target.shape)\n",
        "        # resize data from (batch_size, 1, 28, 28) to (batch_size, 28*28)\n",
        "        # data = data.view(-1, 12*768)\n",
        "        optimizer.zero_grad()\n",
        "        net_out = net(data)\n",
        "        # print(net_out)\n",
        "        # cl_out = net_out.clone()    \n",
        "        # cl_out[cl_out < 0.5] = 0\n",
        "        # cl_out[cl_out >= 0.5] = 1        \n",
        "        loss = criterion(net_out.reshape((-1,2526)), target.reshape((-1,2526)))\n",
        "        loss.backward()\n",
        "        optimizer.step()\n",
        "    if epoch%2 == 0:\n",
        "        print('Train Epoch: {} [{}/{} ({:.0f}%)]\\tLoss: {:.6f}'.format(\n",
        "                epoch, start , len(trainX),\n",
        "                        100. * batch_idx / len(trainX), loss.data))\n",
        "    run_loss.append(loss.item())"
      ],
      "execution_count": 239,
      "outputs": [
        {
          "output_type": "stream",
          "text": [
            "56\n",
            "Train Epoch: 0 [440/449 (12%)]\tLoss: 2.081525\n",
            "Train Epoch: 2 [440/449 (12%)]\tLoss: 2.077747\n",
            "Train Epoch: 4 [440/449 (12%)]\tLoss: 2.074954\n",
            "Train Epoch: 6 [440/449 (12%)]\tLoss: 2.072405\n",
            "Train Epoch: 8 [440/449 (12%)]\tLoss: 2.069994\n",
            "Train Epoch: 10 [440/449 (12%)]\tLoss: 2.067652\n",
            "Train Epoch: 12 [440/449 (12%)]\tLoss: 2.065330\n",
            "Train Epoch: 14 [440/449 (12%)]\tLoss: 2.063022\n",
            "Train Epoch: 16 [440/449 (12%)]\tLoss: 2.060683\n",
            "Train Epoch: 18 [440/449 (12%)]\tLoss: 2.058263\n",
            "Train Epoch: 20 [440/449 (12%)]\tLoss: 2.055712\n",
            "Train Epoch: 22 [440/449 (12%)]\tLoss: 2.053003\n",
            "Train Epoch: 24 [440/449 (12%)]\tLoss: 2.050084\n",
            "Train Epoch: 26 [440/449 (12%)]\tLoss: 2.046929\n",
            "Train Epoch: 28 [440/449 (12%)]\tLoss: 2.043507\n",
            "Train Epoch: 30 [440/449 (12%)]\tLoss: 2.039786\n",
            "Train Epoch: 32 [440/449 (12%)]\tLoss: 2.035736\n",
            "Train Epoch: 34 [440/449 (12%)]\tLoss: 2.031332\n",
            "Train Epoch: 36 [440/449 (12%)]\tLoss: 2.026558\n",
            "Train Epoch: 38 [440/449 (12%)]\tLoss: 2.021378\n",
            "Train Epoch: 40 [440/449 (12%)]\tLoss: 2.015757\n",
            "Train Epoch: 42 [440/449 (12%)]\tLoss: 2.009642\n",
            "Train Epoch: 44 [440/449 (12%)]\tLoss: 2.002987\n",
            "Train Epoch: 46 [440/449 (12%)]\tLoss: 1.995734\n",
            "Train Epoch: 48 [440/449 (12%)]\tLoss: 1.987816\n",
            "Train Epoch: 50 [440/449 (12%)]\tLoss: 1.979162\n",
            "Train Epoch: 52 [440/449 (12%)]\tLoss: 1.969689\n",
            "Train Epoch: 54 [440/449 (12%)]\tLoss: 1.959316\n",
            "Train Epoch: 56 [440/449 (12%)]\tLoss: 1.947946\n",
            "Train Epoch: 58 [440/449 (12%)]\tLoss: 1.935472\n",
            "Train Epoch: 60 [440/449 (12%)]\tLoss: 1.921786\n",
            "Train Epoch: 62 [440/449 (12%)]\tLoss: 1.906759\n",
            "Train Epoch: 64 [440/449 (12%)]\tLoss: 1.890249\n",
            "Train Epoch: 66 [440/449 (12%)]\tLoss: 1.872100\n",
            "Train Epoch: 68 [440/449 (12%)]\tLoss: 1.852128\n",
            "Train Epoch: 70 [440/449 (12%)]\tLoss: 1.830142\n",
            "Train Epoch: 72 [440/449 (12%)]\tLoss: 1.805929\n",
            "Train Epoch: 74 [440/449 (12%)]\tLoss: 1.779244\n",
            "Train Epoch: 76 [440/449 (12%)]\tLoss: 1.749818\n",
            "Train Epoch: 78 [440/449 (12%)]\tLoss: 1.717352\n",
            "Train Epoch: 80 [440/449 (12%)]\tLoss: 1.681514\n",
            "Train Epoch: 82 [440/449 (12%)]\tLoss: 1.641936\n",
            "Train Epoch: 84 [440/449 (12%)]\tLoss: 1.598222\n",
            "Train Epoch: 86 [440/449 (12%)]\tLoss: 1.549930\n",
            "Train Epoch: 88 [440/449 (12%)]\tLoss: 1.496595\n",
            "Train Epoch: 90 [440/449 (12%)]\tLoss: 1.437737\n",
            "Train Epoch: 92 [440/449 (12%)]\tLoss: 1.372867\n",
            "Train Epoch: 94 [440/449 (12%)]\tLoss: 1.301534\n",
            "Train Epoch: 96 [440/449 (12%)]\tLoss: 1.223369\n",
            "Train Epoch: 98 [440/449 (12%)]\tLoss: 1.138175\n",
            "Train Epoch: 100 [440/449 (12%)]\tLoss: 1.046055\n",
            "Train Epoch: 102 [440/449 (12%)]\tLoss: 0.947605\n",
            "Train Epoch: 104 [440/449 (12%)]\tLoss: 0.844137\n",
            "Train Epoch: 106 [440/449 (12%)]\tLoss: 0.737883\n",
            "Train Epoch: 108 [440/449 (12%)]\tLoss: 0.632156\n",
            "Train Epoch: 110 [440/449 (12%)]\tLoss: 0.531197\n",
            "Train Epoch: 112 [440/449 (12%)]\tLoss: 0.439593\n",
            "Train Epoch: 114 [440/449 (12%)]\tLoss: 0.361212\n",
            "Train Epoch: 116 [440/449 (12%)]\tLoss: 0.298039\n",
            "Train Epoch: 118 [440/449 (12%)]\tLoss: 0.249685\n",
            "Train Epoch: 120 [440/449 (12%)]\tLoss: 0.213943\n",
            "Train Epoch: 122 [440/449 (12%)]\tLoss: 0.187916\n",
            "Train Epoch: 124 [440/449 (12%)]\tLoss: 0.168935\n",
            "Train Epoch: 126 [440/449 (12%)]\tLoss: 0.154936\n",
            "Train Epoch: 128 [440/449 (12%)]\tLoss: 0.144443\n",
            "Train Epoch: 130 [440/449 (12%)]\tLoss: 0.136439\n",
            "Train Epoch: 132 [440/449 (12%)]\tLoss: 0.130226\n",
            "Train Epoch: 134 [440/449 (12%)]\tLoss: 0.125322\n",
            "Train Epoch: 136 [440/449 (12%)]\tLoss: 0.121392\n",
            "Train Epoch: 138 [440/449 (12%)]\tLoss: 0.118200\n",
            "Train Epoch: 140 [440/449 (12%)]\tLoss: 0.115574\n",
            "Train Epoch: 142 [440/449 (12%)]\tLoss: 0.113390\n",
            "Train Epoch: 144 [440/449 (12%)]\tLoss: 0.111554\n",
            "Train Epoch: 146 [440/449 (12%)]\tLoss: 0.109996\n",
            "Train Epoch: 148 [440/449 (12%)]\tLoss: 0.108660\n",
            "Train Epoch: 150 [440/449 (12%)]\tLoss: 0.107505\n",
            "Train Epoch: 152 [440/449 (12%)]\tLoss: 0.106498\n",
            "Train Epoch: 154 [440/449 (12%)]\tLoss: 0.105613\n",
            "Train Epoch: 156 [440/449 (12%)]\tLoss: 0.104829\n",
            "Train Epoch: 158 [440/449 (12%)]\tLoss: 0.104130\n",
            "Train Epoch: 160 [440/449 (12%)]\tLoss: 0.103503\n",
            "Train Epoch: 162 [440/449 (12%)]\tLoss: 0.102936\n",
            "Train Epoch: 164 [440/449 (12%)]\tLoss: 0.102420\n",
            "Train Epoch: 166 [440/449 (12%)]\tLoss: 0.101948\n",
            "Train Epoch: 168 [440/449 (12%)]\tLoss: 0.101514\n",
            "Train Epoch: 170 [440/449 (12%)]\tLoss: 0.101112\n",
            "Train Epoch: 172 [440/449 (12%)]\tLoss: 0.100738\n",
            "Train Epoch: 174 [440/449 (12%)]\tLoss: 0.100388\n",
            "Train Epoch: 176 [440/449 (12%)]\tLoss: 0.100059\n",
            "Train Epoch: 178 [440/449 (12%)]\tLoss: 0.099750\n",
            "Train Epoch: 180 [440/449 (12%)]\tLoss: 0.099456\n",
            "Train Epoch: 182 [440/449 (12%)]\tLoss: 0.099178\n",
            "Train Epoch: 184 [440/449 (12%)]\tLoss: 0.098913\n",
            "Train Epoch: 186 [440/449 (12%)]\tLoss: 0.098661\n",
            "Train Epoch: 188 [440/449 (12%)]\tLoss: 0.098420\n",
            "Train Epoch: 190 [440/449 (12%)]\tLoss: 0.098189\n",
            "Train Epoch: 192 [440/449 (12%)]\tLoss: 0.097967\n",
            "Train Epoch: 194 [440/449 (12%)]\tLoss: 0.097753\n",
            "Train Epoch: 196 [440/449 (12%)]\tLoss: 0.097547\n",
            "Train Epoch: 198 [440/449 (12%)]\tLoss: 0.097348\n"
          ],
          "name": "stdout"
        }
      ]
    },
    {
      "cell_type": "code",
      "metadata": {
        "id": "YXTJNbY3E6f8",
        "colab_type": "code",
        "colab": {
          "base_uri": "https://localhost:8080/",
          "height": 107
        },
        "outputId": "31ad4b92-0d3a-43e3-9180-f3147e23675b"
      },
      "source": [
        "print(\"Target:\",np.where(np.asarray(target[0].tolist()) == 1.0000)[0])\n",
        "print(\"Max in net_out:\",max(np.asarray(net_out[0].tolist())))\n",
        "print(\"net_out where 1:\",np.where(np.asarray(net_out[0].tolist()) >= 0.1)[0])\n",
        "print(\"net_out\", np.argsort(np.asarray(net_out[0].tolist()))[:15])"
      ],
      "execution_count": 241,
      "outputs": [
        {
          "output_type": "stream",
          "text": [
            "Target: [ 375 1251 1260 1592 1598 1617 1765 1817 2226 2280 2351 2378]\n",
            "Max in net_out: 0.22671785373336362\n",
            "net_out where 1: [ 151 1239 1293 1299 1355 1378 1592 1617]\n",
            "net_out [1709 1287  167 2444 1593  971 2501 1146  415 1826  192 2042  510 1511\n",
            " 1297]\n"
          ],
          "name": "stdout"
        }
      ]
    },
    {
      "cell_type": "code",
      "metadata": {
        "id": "i2kstwrqTgVb",
        "colab_type": "code",
        "colab": {}
      },
      "source": [
        "import matplotlib.pyplot as plt"
      ],
      "execution_count": 0,
      "outputs": []
    },
    {
      "cell_type": "code",
      "metadata": {
        "id": "HDaXstVzTkve",
        "colab_type": "code",
        "colab": {
          "base_uri": "https://localhost:8080/",
          "height": 313
        },
        "outputId": "5c0f7776-5d99-49ec-d4e9-7442b4f6e84b"
      },
      "source": [
        "plt.title(\"Loss curve - training\")\n",
        "plt.xlabel(\"Epochs\")\n",
        "plt.ylabel(\"Loss\")\n",
        "plt.plot(list(range(0,epochs)), run_loss)"
      ],
      "execution_count": 240,
      "outputs": [
        {
          "output_type": "execute_result",
          "data": {
            "text/plain": [
              "[<matplotlib.lines.Line2D at 0x7fd55c138da0>]"
            ]
          },
          "metadata": {
            "tags": []
          },
          "execution_count": 240
        },
        {
          "output_type": "display_data",
          "data": {
            "image/png": "[encoded data removed]",
            "text/plain": [
              "<Figure size 432x288 with 1 Axes>"
            ]
          },
          "metadata": {
            "tags": []
          }
        }
      ]
    },
    {
      "cell_type": "code",
      "metadata": {
        "id": "3tacNkzWDx2P",
        "colab_type": "code",
        "colab": {
          "base_uri": "https://localhost:8080/",
          "height": 179
        },
        "outputId": "34a01c91-d661-4857-9a35-b397f50b2f24"
      },
      "source": [
        "test_loss = 0\n",
        "correct = 0\n",
        "precision = 0\n",
        "threshold = 0.99\n",
        "recall = 0\n",
        "\n",
        "with torch.no_grad():\n",
        "    data, target = Variable(devX), Variable(devY)\n",
        "    if torch.cuda.is_available():\n",
        "        data, target = data.to(device), target.to(device)\n",
        "\n",
        "    net_out = net(data)\n",
        "    test_loss += criterion(net_out, target).data\n",
        "    out = net_out.data\n",
        "    x = out.clone()\n",
        "    # print(out.min(axis=1))    \n",
        "    out[out > 0.12] = 1\n",
        "    out[out <= 0.12] = 0\n",
        "\n",
        "for idx, act in enumerate(target):\n",
        "    pred = out[idx]\n",
        "    \n",
        "    match = sum((pred == act) * 1)\n",
        "\n",
        "    if match.tolist()/2526 >= threshold:\n",
        "        correct += 1    \n",
        "\n",
        "    idx_pred = np.where(np.array(out[idx].tolist()) == 1)\n",
        "    idx_act = np.where(np.array(target[idx].tolist()) == 1)\n",
        "\n",
        "    if idx == 35:\n",
        "      print(concepts[idx])\n",
        "      print(np.asarray(dv.get_feature_names())[idx_pred])\n",
        "      print(np.asarray(dv.get_feature_names())[idx_act])\n",
        "\n",
        "    tn_fp = out[idx].sum()\n",
        "    tn_tp = target[idx].sum()\n",
        "\n",
        "    precision += len(np.intersect1d(idx_act, idx_pred))/tn_fp\n",
        "    recall += len(np.intersect1d(idx_act, idx_pred))/tn_tp\n",
        "\n",
        "\n",
        "print(\"Accuracy:\", correct/len(devX))\n",
        "print(\"Precision:\", precision/len(devX))\n",
        "print(\"Recall:\", recall/len(devX))\n"
      ],
      "execution_count": 270,
      "outputs": [
        {
          "output_type": "stream",
          "text": [
            "bedroom\n",
            "['an_animal' 'different_colours' 'is_brown' 'is_edible' 'is_large'\n",
            " 'is_long' 'is_round' 'is_small' 'is_white' 'made_of_metal' 'made_of_wood']\n",
            "['clothing' 'different_colours' 'eg_-_bow' 'has_a_knot' 'has_patterns'\n",
            " 'is_businesslike' 'is_formal' 'is_long' 'is_thin' 'made_of_material'\n",
            " 'made_of_silk' 'worn_around_neck' 'worn_by_men' 'worn_with_suits']\n",
            "Accuracy: 0.9387755102040817\n",
            "Precision: tensor(0.1709, device='cuda:0', dtype=torch.float64)\n",
            "Recall: tensor(0.1089, device='cuda:0', dtype=torch.float64)\n"
          ],
          "name": "stdout"
        }
      ]
    },
    {
      "cell_type": "code",
      "metadata": {
        "id": "w9MFtJ79Rgvr",
        "colab_type": "code",
        "colab": {
          "base_uri": "https://localhost:8080/",
          "height": 89
        },
        "outputId": "9bdde41f-af4a-43f5-836f-0ab196f7a629"
      },
      "source": [
        "print(max(x[0].tolist()))\n",
        "print(min(x[0].tolist()))\n",
        "print((max(x[0].tolist())-min(x[0].tolist()))/2)\n",
        "a = (x.max()-x.min())/2\n",
        "print(a.item())"
      ],
      "execution_count": 249,
      "outputs": [
        {
          "output_type": "stream",
          "text": [
            "0.244757244019339\n",
            "9.306159279937718e-10\n",
            "0.12237862154436153\n",
            "0.13491462261700765\n"
          ],
          "name": "stdout"
        }
      ]
    },
    {
      "cell_type": "code",
      "metadata": {
        "id": "OgDoT07GZL1w",
        "colab_type": "code",
        "colab": {
          "base_uri": "https://localhost:8080/",
          "height": 143
        },
        "outputId": "1c0fb582-6127-4618-caac-959d66fa9608"
      },
      "source": [
        "print(concepts[idx])\n",
        "print(np.asarray(dv.get_feature_names())[idx_pred])\n",
        "print(np.asarray(dv.get_feature_names())[idx_act])"
      ],
      "execution_count": 260,
      "outputs": [
        {
          "output_type": "stream",
          "text": [
            "blouse\n",
            "['an_animal' 'is_edible' 'is_large' 'is_small' 'made_of_metal'\n",
            " 'made_of_wood']\n",
            "['found_in_cafeterias' 'is_flat' 'is_rectangular' 'is_round' 'is_square'\n",
            " 'made_of_metal' 'made_of_plastic' 'used_by_waitresses'\n",
            " 'used_for_carrying_drinks' 'used_for_carrying_things' 'used_for_food'\n",
            " 'used_for_holding_things']\n"
          ],
          "name": "stdout"
        }
      ]
    },
    {
      "cell_type": "code",
      "metadata": {
        "id": "AfQ3ylxnQVl0",
        "colab_type": "code",
        "colab": {}
      },
      "source": [
        "label = torch.tensor([1,0,0,0,1,0,0], dtype=torch.float64)\n",
        "pred = torch.tensor([0,0,1,0,1,0,0], dtype=torch.float64)\n",
        "eps = 1e-12\n",
        "ownloss=-(label*pred.clamp(min=eps).log()+(1-label)*(1-pred).clamp(min=eps).log()).mean()\n",
        "print(ownloss)"
      ],
      "execution_count": 0,
      "outputs": []
    },
    {
      "cell_type": "code",
      "metadata": {
        "id": "ntIhp4Dxngs2",
        "colab_type": "code",
        "colab": {}
      },
      "source": [
        "ans = pred-label\n",
        "ans[ans == -1] = 1\n",
        "print(\"LOSS:\", ans.sum()/ans.shape[0])\n",
        "# number of ones are the incorrect predictions"
      ],
      "execution_count": 0,
      "outputs": []
    },
    {
      "cell_type": "code",
      "metadata": {
        "id": "ftZqEprVV8r7",
        "colab_type": "code",
        "colab": {}
      },
      "source": [
        "output = Variable(torch.randn(10, 120).float())\n",
        "target = Variable(label.uniform_(0, 7).long())"
      ],
      "execution_count": 0,
      "outputs": []
    },
    {
      "cell_type": "code",
      "metadata": {
        "id": "FSxModUGWFqG",
        "colab_type": "code",
        "colab": {}
      },
      "source": [
        ""
      ],
      "execution_count": 0,
      "outputs": []
    }
  ]
}